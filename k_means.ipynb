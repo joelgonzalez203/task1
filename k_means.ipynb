{
 "cells": [
  {
   "cell_type": "code",
   "execution_count": 1,
   "id": "418fcddb",
   "metadata": {},
   "outputs": [],
   "source": [
    "import matplotlib.pyplot as plt\n",
    "import pandas as pd\n",
    "import numpy as np\n",
    "\n",
    "ld = pd.read_csv(\"kmeans_data/label.csv\")\n",
    "rd = pd.read_csv(\"kmeans_data/data.csv\")\n",
    "ld.head()\n",
    "\n",
    "DataCoord = np.array(rd)"
   ]
  },
  {
   "cell_type": "code",
   "execution_count": 2,
   "id": "ecd38d88",
   "metadata": {},
   "outputs": [],
   "source": [
    "colors = {0:'b', 1:'r'}"
   ]
  },
  {
   "cell_type": "code",
   "execution_count": 3,
   "id": "fcaf8660",
   "metadata": {},
   "outputs": [],
   "source": [
    "class Custom_kmeans:\n",
    "    def jaccard_distance(a, b):\n",
    "\n",
    "        distance = len(a.symmetric_difference(b)) / len(a.union(b))\n",
    "\n",
    "        return distances\n",
    "        \n",
    "    \n",
    "    def kmeans(self,data):\n",
    "\n",
    "        self.centroids = {}\n",
    "        stop_iterating = False\n",
    "\n",
    "        for i in range(2):\n",
    "            self.centroids[i] = data[i]\n",
    "\n",
    "        for j in range(100):\n",
    "            self.classifications = {}\n",
    "\n",
    "            for k in range(2):\n",
    "                self.classifications[k] = []\n",
    "\n",
    "            for m in data:\n",
    "                distance = [np.linalg.norm(m - self.centroids[ind]) for ind in self.centroids]\n",
    "                self.classifications[distance.index(min(distance))].append(m)\n",
    "\n",
    "            prev = dict(self.centroids)\n",
    "\n",
    "            for classification in self.classifications:\n",
    "                self.centroids[classification] = np.average(self.classifications[classification],axis=0)\n",
    "\n",
    "            for l in self.centroids:\n",
    "                previous = prev[l]\n",
    "                nextc = self.centroids[l]\n",
    "                if np.sum((nextc-previous) / previous * 100.0) > 0.001:\n",
    "                    print(np.sum((nextc - previous) / previous * 100.0))\n",
    "                    stop_iterating = True\n",
    "\n",
    "            if stop_iterating:\n",
    "                print(j)\n",
    "                \n",
    "            else:\n",
    "                break\n"
   ]
  },
  {
   "cell_type": "code",
   "execution_count": null,
   "id": "570060f1",
   "metadata": {},
   "outputs": [
    {
     "name": "stderr",
     "output_type": "stream",
     "text": [
      "/var/folders/l8/jbc66sqs59d5rsw1pxbs0vxw0000gn/T/ipykernel_34610/1577115121.py:35: RuntimeWarning: divide by zero encountered in true_divide\n",
      "  if np.sum((nextc-previous) / previous * 100.0) > 0.001:\n",
      "/var/folders/l8/jbc66sqs59d5rsw1pxbs0vxw0000gn/T/ipykernel_34610/1577115121.py:35: RuntimeWarning: invalid value encountered in true_divide\n",
      "  if np.sum((nextc-previous) / previous * 100.0) > 0.001:\n"
     ]
    }
   ],
   "source": [
    "cluster = Custom_kmeans()\n",
    "\n",
    "cluster.kmeans(DataCoord)     \n",
    "                \n",
    "# Plot centroids\n",
    "for i in cluster.centroids:\n",
    "    plt.scatter(cluster.centroids[i][0], cluster.centroids[i][1], marker = \"o\", color = \"k\", s = 300)\n",
    "\n",
    "# Plot Points\n",
    "for j in cluster.classifications:\n",
    "    color = colors[j]\n",
    "    for k in cluster.classifications[j]:\n",
    "        plt.scatter(k[0], k[1], marker = \".\", color = color, s = 300)\n",
    "\n",
    "\n",
    "plt.show()"
   ]
  }
 ],
 "metadata": {
  "kernelspec": {
   "display_name": "Python 3 (ipykernel)",
   "language": "python",
   "name": "python3"
  },
  "language_info": {
   "codemirror_mode": {
    "name": "ipython",
    "version": 3
   },
   "file_extension": ".py",
   "mimetype": "text/x-python",
   "name": "python",
   "nbconvert_exporter": "python",
   "pygments_lexer": "ipython3",
   "version": "3.9.12"
  }
 },
 "nbformat": 4,
 "nbformat_minor": 5
}
